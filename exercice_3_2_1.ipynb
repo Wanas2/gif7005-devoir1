{
 "cells": [
  {
   "cell_type": "markdown",
   "id": "8d21e85f",
   "metadata": {
    "editable": false,
    "id": "3dbbcef2",
    "lang": "fr",
    "tags": [
     "problem-title"
    ]
   },
   "source": [
    "# Devoir 1, Question 1 : Estimateur statistique"
   ]
  },
  {
   "cell_type": "markdown",
   "id": "77e1660d",
   "metadata": {
    "editable": false,
    "id": "edc625b3",
    "lang": "en",
    "tags": [
     "problem-title"
    ]
   },
   "source": [
    "# Homework 1, Question 1: Statistical estimator"
   ]
  },
  {
   "cell_type": "markdown",
   "id": "af6068d2",
   "metadata": {
    "editable": false,
    "id": "aaf0495e",
    "lang": "fr",
    "tags": [
     "problem-statement"
    ]
   },
   "source": [
    "Soit la loi exponentielle, pour laquelle la densité de probabilité est définie par l'équation suivante:\n",
    "\n",
    "$$p(x)=\\left\\{\\begin{array}{cc}\\lambda\\exp(-\\lambda x) & x\\geq 0\\\\ 0 & x<0\\end{array}\\right..$$\n",
    "\n",
    "L'espérance mathématique de cette loi est $\\mathbb{E}[x]=\\frac{1}{\\lambda}$ alors que la variance est $\\mathrm{Var}(x)=\\frac{1}{\\lambda^2}$."
   ]
  },
  {
   "cell_type": "markdown",
   "id": "873e603c",
   "metadata": {
    "editable": false,
    "id": "de58b9d4",
    "lang": "en",
    "tags": [
     "problem-statement"
    ]
   },
   "source": [
    "Let be the exponential law, for which the probability density is defined by the following equation:\n",
    "\n",
    "$$p(x)=\\left\\{\\begin{array}{cc}\\lambda\\exp(-\\lambda x) & x\\geq 0\\\\ 0 & x<0\\end{array}\\right..$$\n",
    "\n",
    "The mathematical expectation of this law is $\\mathbb{E}[x]=\\frac{1}{\\lambda}$ while the variance is $\\mathrm{Var}(x)=\\frac{1}{\\lambda^2}$."
   ]
  },
  {
   "cell_type": "markdown",
   "id": "2afb5a69",
   "metadata": {
    "editable": false,
    "id": "ca6af02b",
    "lang": "fr",
    "tags": [
     "problem-statement"
    ]
   },
   "source": [
    "### Q1A\n",
    "En suivant la démarche présentée en classe, calculez l'expression de l'estimateur de $\\lambda$ selon un maximum de vraisemblance."
   ]
  },
  {
   "cell_type": "markdown",
   "id": "d141ab6b",
   "metadata": {
    "editable": false,
    "id": "a62215b9",
    "lang": "en",
    "tags": [
     "problem-statement"
    ]
   },
   "source": [
    "### Q1A\n",
    "Following the procedure presented in class, calculate the expression of the estimator of $\\lambda$ according to its maximum likelihood."
   ]
  },
  {
   "cell_type": "markdown",
   "id": "64617d2f",
   "metadata": {
    "editable": false,
    "id": "e34b788f",
    "lang": "fr",
    "tags": []
   },
   "source": [
    "### Entrez votre solution à Q1A dans la cellule ci-dessous (markdown et $\\LaTeX$)"
   ]
  },
  {
   "cell_type": "markdown",
   "id": "f4838ed3",
   "metadata": {
    "editable": false,
    "id": "b7b27b92",
    "lang": "en",
    "tags": []
   },
   "source": [
    "### Enter your answer to Q1A in the cell below (markdown and $\\LaTeX$)"
   ]
  },
  {
   "cell_type": "markdown",
   "id": "98d2a4da",
   "metadata": {
    "editable": false,
    "tags": [
     "feedback"
    ]
   },
   "source": [
    "<div class=\"feedback-cell\" style=\"background: rgba(100 , 100 , 100 , 0.4)\">\n",
    "            <h3>Votre soumission a été enregistrée!</h3><ul><li>notez qu'il n'y a\n",
    "            <strong>pas</strong> de correction automatique pour cet exercice&puncsp;;</li>\n",
    "            <li>par conséquent, votre note est <strong>actuellement</strong> zéro&puncsp;;</li>\n",
    "            <li>elle sera cependant ajustée par le professeur dès que la correction manuelle\n",
    "            sera complétée&puncsp;;</li><li>vous pouvez soumettre autant de fois que nécessaire\n",
    "            jusqu'à la date d'échéance&puncsp;;</li><li>mais évitez de soumettre inutilement.</li>\n",
    "            </ul></div>"
   ]
  },
  {
   "cell_type": "markdown",
   "id": "7d6ba9f6",
   "metadata": {
    "deletable": false,
    "id": "51a03298",
    "tags": [
     "user-answer-Q1A",
     "editable"
    ]
   },
   "source": [
    "$p(x) \\sim \\exp(\\lambda)$\n",
    "\n",
    "- Fonction de log-vraissemble:                \n",
    "$\\begin{align*}\n",
    "L(\\lambda|\\mathcal{X}) &= \\log\\prod\\limits_{t=1}^{N} p(x^t|\\lambda) \\\\\n",
    "                       &= \\sum\\limits_{t=1}^{N} \\log(\\lambda\\exp(-\\lambda x^t)) \\\\\n",
    "                       &= N\\log(\\lambda) - \\frac{\\lambda}{\\ln(10)}\\sum\\limits_{t=1}^{N} x^t \\\\\n",
    "                       &\\equiv N\\log(\\lambda) - \\lambda\\sum\\limits_{t=1}^{N} x^t\n",
    "\\end{align*}$\n",
    "\n",
    "- Estimation du maximum de vraissemblance: \\\n",
    "$\\frac{dL(\\lambda|\\mathcal{X})}{d\\lambda} \\equiv \\frac{N}{\\lambda} - \\sum\\limits_{t=1}^{N} x^t \\\\\n",
    "\\frac{dL(\\lambda|\\mathcal{X})}{d\\lambda} = 0 \n",
    "\\implies \\frac{N}{l} - \\sum\\limits_{t=1}^{N} x^t = 0 \n",
    "\\implies l = \\frac{N}{\\sum\\limits_{t=1}^{N} x^t}$"
   ]
  },
  {
   "cell_type": "markdown",
   "id": "43e6c761",
   "metadata": {
    "editable": false,
    "id": "bffd70f4",
    "lang": "fr",
    "tags": [
     "problem-statement"
    ]
   },
   "source": [
    "### Q1B\n",
    "Déterminez si cet estimateur de $\\lambda$ est biaisé dans le cas général?\n",
    "\n",
    "**Indice&puncsp;:** vous pouvez considérer que $\\mathbb{E}[1/x] \\neq 1/\\mathbb{E}[x]$ dans le cas général."
   ]
  },
  {
   "cell_type": "markdown",
   "id": "38ae4ce3",
   "metadata": {
    "editable": false,
    "id": "e3011fa1",
    "lang": "en",
    "tags": [
     "problem-statement"
    ]
   },
   "source": [
    "### Q1B\n",
    "Determine if this estimator of $\\lambda$ is biased in the general case.\n",
    "\n",
    "**Hint:** you can consider $\\mathbb{E}[1/x] \\neq 1/\\mathbb{E}[x]$ in the general case."
   ]
  },
  {
   "cell_type": "markdown",
   "id": "5b4a060f",
   "metadata": {
    "editable": false,
    "id": "6dfbe6ca",
    "lang": "fr",
    "tags": []
   },
   "source": [
    "### Entrez votre solution à Q1B dans la cellule ci-dessous (markdown et $\\LaTeX$)"
   ]
  },
  {
   "cell_type": "markdown",
   "id": "bc66c8d2",
   "metadata": {
    "editable": false,
    "id": "473e6122",
    "lang": "en",
    "tags": []
   },
   "source": [
    "### Enter your answer to Q1B in the cell below (markdown and $\\LaTeX$)"
   ]
  },
  {
   "cell_type": "markdown",
   "id": "f05c91ed",
   "metadata": {
    "deletable": false,
    "id": "3a03ddaf",
    "lines_to_next_cell": 0,
    "tags": [
     "user-answer-Q1B",
     "editable"
    ]
   },
   "source": [
    "- Biais de l'estimateur l: \\\n",
    "$\\mathbb{E}[l] = \\frac{1}{N}\\mathbb{E}\\bigg[\\sum\\limits_{t=1}^{N} x^t\\bigg] = \\frac{1}{N}\\sum\\limits_{t=1}^{N}\\mathbb{E}[x^t] = \\frac{1}{\\lambda}\\\\\n",
    "b_{\\theta} = \\frac{1}{\\lambda} - \\lambda \\neq 0 \\implies \\text{l'estimateur l est biaisé}$"
   ]
  },
  {
   "cell_type": "markdown",
   "id": "eb551566",
   "metadata": {
    "editable": false
   },
   "source": []
  }
 ],
 "metadata": {
  "PAX": {
   "userLang": "fr"
  },
  "celltoolbar": "",
  "jupytext": {
   "notebook_metadata_filter": "celltoolbar",
   "text_representation": {
    "extension": ".md",
    "format_name": "markdown",
    "format_version": "1.3",
    "jupytext_version": "1.11.4"
   }
  },
  "kernelspec": {
   "display_name": "Python 3 (PAX)",
   "language": "python",
   "name": "python3"
  },
  "language_info": {
   "codemirror_mode": {
    "name": "ipython",
    "version": 3
   },
   "file_extension": ".py",
   "mimetype": "text/x-python",
   "name": "python",
   "nbconvert_exporter": "python",
   "pygments_lexer": "ipython3",
   "version": "3.8.10"
  },
  "nbTranslate": {
   "displayLangs": [
    "*"
   ],
   "hotkey": "alt-t",
   "langInMainMenu": true,
   "sourceLang": "fr",
   "targetLang": "en",
   "useGoogleTranslate": true
  }
 },
 "nbformat": 4,
 "nbformat_minor": 5
}
