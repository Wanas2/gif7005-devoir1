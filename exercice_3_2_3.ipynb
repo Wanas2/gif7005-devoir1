{
 "cells": [
  {
   "cell_type": "markdown",
   "id": "15881380",
   "metadata": {
    "editable": false,
    "id": "adba8663",
    "lang": "fr",
    "tags": [
     "problem-title"
    ]
   },
   "source": [
    "# Devoir 1, Question 3 : Classement avec option de rejet"
   ]
  },
  {
   "cell_type": "markdown",
   "id": "4a4b64e7",
   "metadata": {
    "editable": false,
    "id": "ed5a1479",
    "lang": "en",
    "tags": [
     "problem-title"
    ]
   },
   "source": [
    "# Homework 1, Question 3: Classification with reject option"
   ]
  },
  {
   "cell_type": "markdown",
   "id": "b622ad43",
   "metadata": {
    "editable": false,
    "id": "ffde18a3",
    "lang": "fr",
    "tags": [
     "problem-statement"
    ]
   },
   "source": [
    "Soit un classifieur bayésien de loi normale multivariée avec matrices de covariance distinctes pour chaque classe et isotropiques, c’est-à-dire avec des valeurs égales sur toute la diagonale et nulles autrement, $\\mathbf{\\Sigma}_i=\\sigma_i^2\\mathbf{I},~\\forall i$."
   ]
  },
  {
   "cell_type": "markdown",
   "id": "174544fd",
   "metadata": {
    "editable": false,
    "id": "caf059ba",
    "lang": "en",
    "tags": [
     "problem-statement"
    ]
   },
   "source": [
    "Consider a Bayesian multivariate Gaussian distribution classifier with distinct covariance matrices for each class and isotropic, that is, with values equal across the diagonal and zero otherwise, $\\mathbf{\\Sigma}_i=\\sigma_i^2\\mathbf{I},~\\forall i$."
   ]
  },
  {
   "cell_type": "markdown",
   "id": "9ef296f0",
   "metadata": {
    "editable": false,
    "id": "47c19502",
    "lang": "fr",
    "tags": []
   },
   "source": [
    "## Librairies permises"
   ]
  },
  {
   "cell_type": "markdown",
   "id": "e8dcf4db",
   "metadata": {
    "editable": false,
    "id": "bd155f17",
    "lang": "en",
    "tags": []
   },
   "source": [
    "## Allowed libraries"
   ]
  },
  {
   "cell_type": "code",
   "execution_count": null,
   "id": "17b5e539",
   "metadata": {
    "ExecuteTime": {
     "start_time": "2022-02-05T00:12:33.169Z"
    },
    "editable": false,
    "id": "063ed887",
    "tags": [
     "problem-context",
     "autoexec"
    ]
   },
   "outputs": [],
   "source": [
    "%matplotlib notebook\n",
    "import time\n",
    "import numpy\n",
    "import pandas\n",
    "import collections\n",
    "\n",
    "from IPython import display\n",
    "\n",
    "import matplotlib\n",
    "matplotlib.rcParams['figure.figsize'] = (9.0, 7.0)\n",
    "from matplotlib import pyplot\n",
    "\n",
    "# Jeux de données / datasets\n",
    "from sklearn.datasets import load_iris\n",
    "\n",
    "# Méthodes d'évaluation / evaluation methods\n",
    "from sklearn.model_selection import train_test_split, RepeatedKFold"
   ]
  },
  {
   "cell_type": "markdown",
   "id": "cfc8eb38",
   "metadata": {
    "editable": false,
    "id": "5f9940a4",
    "lang": "fr",
    "tags": []
   },
   "source": [
    "## Q3A\n",
    "Calculez l’équation pour l’estimation du paramètre $\\sigma_{i}$ par la méthode du maximum de vraisemblance, en fournissant les développements mathématiques complets dans votre rapport."
   ]
  },
  {
   "cell_type": "markdown",
   "id": "8da12cc7",
   "metadata": {
    "editable": false,
    "id": "4cae4bc1",
    "lang": "en",
    "tags": []
   },
   "source": [
    "## Q3A\n",
    "Calculate the equation for the estimation of the parameter $\\sigma_{i}$ by the maximum likelihood method, providing the full mathematical developments in your report."
   ]
  },
  {
   "cell_type": "markdown",
   "id": "f7519cba",
   "metadata": {
    "editable": false,
    "id": "62c55b3f",
    "lang": "fr",
    "tags": []
   },
   "source": [
    "### Entrez votre solution à Q3A dans la cellule ci-dessous (markdown et $\\LaTeX$)"
   ]
  },
  {
   "cell_type": "markdown",
   "id": "3863c8ce",
   "metadata": {
    "editable": false,
    "id": "1ef98aed",
    "lang": "en",
    "tags": []
   },
   "source": [
    "### Enter your answer to Q3A in the cell below (markdown and $\\LaTeX$)"
   ]
  },
  {
   "cell_type": "markdown",
   "id": "8bfcd401",
   "metadata": {
    "editable": false,
    "tags": [
     "feedback"
    ]
   },
   "source": [
    "<div class=\"feedback-cell\" style=\"background: rgba(100 , 100 , 100 , 0.4)\">\n",
    "            <h3>Votre soumission a été enregistrée!</h3><ul><li>notez qu'il n'y a\n",
    "            <strong>pas</strong> de correction automatique pour cet exercice&puncsp;;</li>\n",
    "            <li>par conséquent, votre note est <strong>actuellement</strong> zéro&puncsp;;</li>\n",
    "            <li>elle sera cependant ajustée par le professeur dès que la correction manuelle\n",
    "            sera complétée&puncsp;;</li><li>vous pouvez soumettre autant de fois que nécessaire\n",
    "            jusqu'à la date d'échéance&puncsp;;</li><li>mais évitez de soumettre inutilement.</li>\n",
    "            </ul></div>"
   ]
  },
  {
   "cell_type": "markdown",
   "id": "2a6a1b90",
   "metadata": {
    "deletable": false,
    "id": "cc875d25",
    "tags": [
     "user-answer-Q3A",
     "editable"
    ]
   },
   "source": [
    "Soit la loi normale multivariée: \\\n",
    "$p(x)= \\frac{1}{(2\\pi)^{0.5D}|\\Sigma|^{0.5}}\\exp(-\\frac{1}{2}(x-\\mu)^T\\Sigma^{-1}(x-\\mu))$\n",
    "\n",
    "$p(x_i) \\sim \\mathcal{N}_D(\\mu_i, \\sigma_i^2)$\n",
    "avec $\\Sigma_i = \\sigma_i^2I, \\forall i$ \n",
    "\n",
    "Fonction de log-vraissemble:                \n",
    "$\\begin{align*}\n",
    "L(\\mu_i,\\sigma_i^2|\\mathcal{X}) &= \\log\\prod\\limits_{t=1}^{N} p(x_i^t|\\mu_i,\\sigma_i^2) \\\\\n",
    "                       &= \\sum\\limits_{t=1}^{N} \\log\\frac{1}{(2\\pi)^{0.5D}|\\Sigma_i|^{0.5}}\\exp\\big(-\\frac{1}{2}(x_i^t-\\mu_i)^T\\Sigma_i^{-1}(x_i^t-\\mu_i)\\big) \\\\\n",
    "                       &\\equiv -\\frac{ND}{2}\\log2\\pi -\\frac{N}{2}log|\\Sigma_i| -\\frac{1}{2}\\sum\\limits_{t=1}^{N} (x_i^t-\\mu_i)^T\\Sigma_i^{-1}(x_i^t-\\mu_i) \\\\\n",
    "                       &\\equiv -\\frac{N}{2}log|\\sigma_i^2I| -\\frac{1}{2}\\sum\\limits_{t=1}^{N} (x_i^t-\\mu_i)^T(\\sigma_i^2I)^{-1}(x_i^t-\\mu_i) \\\\\n",
    "                       &\\equiv -Nlog\\sigma_i -\\frac{1}{2\\sigma_i^2}\\sum\\limits_{t=1}^{N} (x_i^t-\\mu_i)^T(x_i^t-\\mu_i) \\\\\n",
    "\\end{align*}$\n",
    "\n",
    "Estimation du maximum de vraissemblance: \\\n",
    "$\\frac{\\partial L(\\mu_i,\\sigma_i^2|\\mathcal{X}) }{\\partial\\mu_i} \\equiv \\sum\\limits_{t=1}^{N} x_i^t - N\\mu_i  \\\\\n",
    "\\frac{\\partial L(\\mu_i,\\sigma_i^2|\\mathcal{X}) }{\\partial\\mu_i} = 0 \n",
    "\\implies \\sum\\limits_{t=1}^{N} x_i^t - Nm_i = 0 \n",
    "\\implies m_i = \\frac{\\sum\\limits_{t=1}^{N} x_i^t}{N}$\n",
    "$\\frac{\\partial L(\\mu_i,\\sigma_i^2|\\mathcal{X}) }{\\partial\\sigma_i} \\equiv -\\frac{N}{\\sigma_i} + \\frac{1}{\\sigma_i^3}\\sum\\limits_{t=1}^{N} (x_i^t-\\mu_i)^2 \\\\\n",
    "\\frac{\\partial L(\\mu_i,\\sigma_i^2|\\mathcal{X}) }{\\partial\\sigma_i} = 0 \n",
    "\\implies -\\frac{N}{s_i} + \\frac{1}{s_i^3}\\sum\\limits_{t=1}^{N} (x_i^t - m_i)^2 = 0 \n",
    "\\implies s^2 = \\frac{\\sum\\limits_{t=1}^{N} (x_i^t-m_i)^2}{N}$"
   ]
  },
  {
   "cell_type": "markdown",
   "id": "889b153b",
   "metadata": {
    "editable": false,
    "id": "37ce8020",
    "lang": "fr",
    "tags": []
   },
   "source": [
    "## Q3B\n",
    "Supposons maintenant que l'on ajoute une option de rejet au classement. Le coût des erreurs est égal pour tous les  types d'erreurs (coût de 1), sauf pour le rejet (coût de $\\lambda \\in [0,1]$). Donnez l'équation complète pour calculer la probabilité a posteriori $P(C_{i}\\mid \\mathbf{x})$ et la fonction pour la prise de décision minimisant le risque (minimisant le coût) avec l'option de rejet."
   ]
  },
  {
   "cell_type": "markdown",
   "id": "47e1ad18",
   "metadata": {
    "editable": false,
    "id": "68cc9b45",
    "lang": "en",
    "tags": []
   },
   "source": [
    "## Q3B\n",
    "Now suppose we add a reject option to the ranking. The cost of errors is equal for all types of errors (cost of 1), except for rejection (cost of $\\lambda \\in [0,1]$). Give the full equation to calculate the posterior probability $P(C_{i}\\mid \\mathbf{x})$ and the function for decision-making minimizing risk (minimizing cost) with the reject option."
   ]
  },
  {
   "cell_type": "markdown",
   "id": "b3105af8",
   "metadata": {
    "editable": false,
    "id": "0a878afd",
    "lang": "fr",
    "tags": []
   },
   "source": [
    "### Entrez votre solution à Q3B dans la cellule ci-dessous (markdown et $\\LaTeX$)"
   ]
  },
  {
   "cell_type": "markdown",
   "id": "f45dff35",
   "metadata": {
    "editable": false,
    "id": "5343eef8",
    "lang": "en",
    "tags": []
   },
   "source": [
    "### Enter your answer to Q3B in the cell below (markdown and $\\LaTeX$)"
   ]
  },
  {
   "cell_type": "markdown",
   "id": "c0117e67",
   "metadata": {
    "deletable": false,
    "id": "85d3c5b5",
    "tags": [
     "user-answer-Q3B",
     "editable"
    ]
   },
   "source": [
    "La fonction de perte: \n",
    "$\\mathcal{L}(\\alpha_i, C_j) = \n",
    "\\begin{cases}\n",
    "0 & \\textrm{ si } i = j \\\\\n",
    "\\lambda & \\textrm{ si } i = K+1 \\\\\n",
    "1 & \\textrm{ autrement }\n",
    "\\end{cases}$\n",
    "\n",
    "La fonction discriminante associée est: \\\n",
    "$\\begin{align*}\n",
    "P(C_i|x) = h_i(x) &= -\\frac{||x - m_i||^2}{2s^2} + log\\hat{P}(C_i) \\\\\n",
    "                  &= -\\frac{(x - m_i)^T(x - m_i)}{2s^2} + log\\hat{P}(C_i) \\\\\n",
    "                  &= -\\frac{(x^T - 2m_i^Tx + m_i^Tm_i)}{2s^2} + log\\hat{P}(C_i)\n",
    "\\end{align*}$\n",
    "\n",
    "Comme $x^Tx \\textrm{ commun } \\forall h_i(x)$ \\\n",
    "$P(C_i|x) = h_i(x) = w_i^Tx + w_i^0$ \n",
    "\n",
    "où\n",
    "$\\begin{cases}\n",
    "w_i = m_i \\\\\n",
    "w_i^0 = -\\frac{1}{2}||m_i||^2 - 2s^2log\\hat{P}(C_i)\n",
    "\\end{cases}$\n",
    "\n",
    "Décision optimale est:\n",
    "$\\alpha^* = \n",
    "\\begin{cases}\n",
    "\\alpha_{K+1} & \\textrm{ si } P(C_i|x) < 1 - \\lambda, & \\forall i = 1,..., K\\\\\n",
    "\\arg\\max\\limits_{\\alpha_i=1}^{\\alpha_K} P(C_i|x) & \\textrm{ autrement }\n",
    "\\end{cases}$"
   ]
  },
  {
   "cell_type": "markdown",
   "id": "a19f378e",
   "metadata": {
    "editable": false,
    "id": "cdd6efca",
    "lang": "fr",
    "tags": []
   },
   "source": [
    "## Q3C\n",
    "Faites une implémentation du modèle présenté au point précédent en utilisant l'interface scikit-learn, permettant ainsi de l’utiliser similairement aux autres algorithmes disponibles dans la librairie. Implémentez les méthodes `fit`, `predict`, `predict_proba` et `score` dans votre modèle. Pour la fonction `score`, utilisez le coût total de l'application de votre classifieur sur les données (somme du coût des rejets et du coût des mauvais classements). Utilisez la cellule suivante pour donner votre réponse par une implémentation dans une classe Python nommée `ClassifieurAvecRejet`."
   ]
  },
  {
   "cell_type": "markdown",
   "id": "3693314c",
   "metadata": {
    "editable": false,
    "id": "c1e5edfb",
    "lang": "en",
    "tags": []
   },
   "source": [
    "## Q3C\n",
    "Make an implementation of the model presented in the previous point using the scikit-learn interface, thus allowing it to be used similarly to the other algorithms available in the library. Implement the `fit`,` predict`, `predict_proba` and` score` methods in your model. For the `score` function, use the total cost of applying your classifier to the data (sum of the cost of rejects and the cost of badly classified samples). Use the following cell to give your answer by an implementation in a Python class named `ClassifieurAvecRejet`."
   ]
  },
  {
   "cell_type": "markdown",
   "id": "823ccdd3",
   "metadata": {
    "editable": false,
    "id": "ec96a8a5",
    "lang": "fr",
    "tags": []
   },
   "source": [
    "### Patron de code réponse à l'exercice Q3C"
   ]
  },
  {
   "cell_type": "markdown",
   "id": "e0ccf8b7",
   "metadata": {
    "editable": false,
    "id": "2ad5c2c8",
    "lang": "en",
    "tags": []
   },
   "source": [
    "### Q3C answer code template"
   ]
  },
  {
   "cell_type": "code",
   "execution_count": null,
   "id": "ffaf8de1",
   "metadata": {
    "editable": false,
    "id": "1f2632a1",
    "tags": []
   },
   "outputs": [],
   "source": [
    "class ClassifieurAvecRejet:\n",
    "    \n",
    "    def __init__(self, _lambda=1):\n",
    "        # _lambda est le coût de rejet\n",
    "        # _lambda is the cost of reject\n",
    "        self._lambda = _lambda\n",
    "    \n",
    "\n",
    "    def fit(self, X, y):\n",
    "        # *** TODO Q3C ***\n",
    "        # Entraînez votre modèle à partir des données fournies en argument\n",
    "        # Train the model from datasets given as arguments\n",
    "        pass # Retirez le pass / remove the pass\n",
    "        # *****\n",
    "\n",
    "    \n",
    "    def predict_proba(self, X):\n",
    "        # *** TODO Q3C ***\n",
    "        # Retournez la probabilité d'appartenance à chaque classe\n",
    "        # pour les données passées en argument.\n",
    "        # Cette fonction peut supposer que fit() a préalablement été appelé.\n",
    "        # Indice: calculez les termes de l'équation de Bayes séparément.\n",
    "        # Return the class conditional probabilities to each class according\n",
    "        # to the data given as argument.\n",
    "        # This function can assume that fit() has been previously called.\n",
    "        # Tip: compute each component of Bayes equation separately.\n",
    "        pass # Retirez le pass / remove the pass\n",
    "        # *****\n",
    "\n",
    "\n",
    "    def predict(self, X):\n",
    "        # *** TODO Q3C ***\n",
    "        # Retournez les prédictions de classes pour les données\n",
    "        # passées en argument.\n",
    "        # Cette fonction peut supposer que fit() a préalablement été appelé.\n",
    "        # Indice: vous pouvez appeler predict_proba() pour éviter une\n",
    "        # redondance du code.\n",
    "        # Return the class predictions for the data pass as arguments.\n",
    "        # This function can assume that fit() has been previously called.\n",
    "        # Tip: you can call predict_proba() to avoid repeating some code.\n",
    "        pass # Retirez le pass / remove the pass\n",
    "        # *****\n",
    "    \n",
    "    \n",
    "    def score(self, X, y):\n",
    "        # *** TODO Q3C ***\n",
    "        # Retournez le score de performance, tenant compte des données rejetées\n",
    "        # si lambda < 1.0, pour les données passées en argument.\n",
    "        # Cette fonction peut supposer que fit() a préalablement été exécuté.\n",
    "        # Return the performance score, taking into account rejected samples\n",
    "        # if lambda < 1.0, for data given as argument.\n",
    "        # This function can assume that fit() has been previously called.\n",
    "        pass # Retirez le pass / remove the pass\n",
    "        # *****"
   ]
  },
  {
   "cell_type": "markdown",
   "id": "31e3d844",
   "metadata": {
    "editable": false,
    "id": "c8fc229a",
    "lang": "fr",
    "tags": []
   },
   "source": [
    "### Entrez votre solution à Q3C dans la cellule ci-dessous"
   ]
  },
  {
   "cell_type": "markdown",
   "id": "0a456d5f",
   "metadata": {
    "editable": false,
    "id": "4980593b",
    "lang": "en",
    "tags": []
   },
   "source": [
    "### Enter your answer to Q3C in the cell below"
   ]
  },
  {
   "cell_type": "code",
   "execution_count": null,
   "id": "9ae4ed01",
   "metadata": {
    "deletable": false,
    "id": "5689c7bf",
    "tags": [
     "user-answer-Q3C",
     "editable"
    ]
   },
   "outputs": [],
   "source": []
  },
  {
   "cell_type": "markdown",
   "id": "d19650da",
   "metadata": {
    "editable": false,
    "id": "bf4320e2",
    "lang": "fr",
    "tags": []
   },
   "source": [
    "## Q3D\n",
    "Utilisez le jeu de données des Iris de Fisher pour tester l'algorithme que vous avez implémenté à la sous-question précédente. Pour ce faire, exécutez l'algorithme en variant le coût de rejet. Testez avec les coûts de rejet suivants : $\\lambda=\\{0.1, 0.3, 0.5, 1.0\\}$.\n",
    "\n",
    "Pour chaque configuration, rapportez l’erreur empirique correspondant au taux d’erreur de classement sur le jeu de données au complet (erreur sur le jeu d’entraînement). Représentez également les résultats visuellement, en traçant les données (avec indicateurs de classe), les régions de décision dans des figures 2D, incluant les régions de rejet, pour toutes les paires de variables. Fournissez votre solution dans la cellule suivante."
   ]
  },
  {
   "cell_type": "markdown",
   "id": "6f5e59f6",
   "metadata": {
    "editable": false,
    "id": "e13e3106",
    "lang": "en",
    "tags": []
   },
   "source": [
    "## Q3D\n",
    "Use the Fisher Iris dataset to test the algorithm you implemented in the previous sub-question. To do this, run the algorithm by varying the cost of rejection. Test with the following rejection costs: $\\lambda=\\{0.1, 0.3, 0.5, 1.0\\}$.\n",
    "\n",
    "For each configuration, report the empirical error corresponding to the classification error rate on the entire dataset (error on the training set). Also represent the results visually, plotting the data (with class indicators), decision regions in 2D figures, including rejection regions, for all pairs of variables. Provide your solution in the next cell."
   ]
  },
  {
   "cell_type": "markdown",
   "id": "3c3877af",
   "metadata": {
    "editable": false,
    "id": "eba56360",
    "lang": "fr",
    "tags": []
   },
   "source": [
    "### Patron de code réponse à l'exercice Q3D"
   ]
  },
  {
   "cell_type": "markdown",
   "id": "a51d882e",
   "metadata": {
    "editable": false,
    "id": "54a0c0ba",
    "lang": "en",
    "tags": []
   },
   "source": [
    "### Q3D answer code template"
   ]
  },
  {
   "cell_type": "code",
   "execution_count": null,
   "id": "a8ee98a8",
   "metadata": {
    "editable": false,
    "id": "03735c35",
    "tags": []
   },
   "outputs": [],
   "source": [
    "# Durée d'exécution maximale / maximum execution time\n",
    "TMAX_Q3D = 1.0\n",
    "\n",
    "# Dictionnaire pour enregistrer les erreurs selon les classifieurs\n",
    "# Dictionary to record classification errors\n",
    "erreurs = collections.defaultdict(list)\n",
    "erreurs['Classifieurs'] = []\n",
    "\n",
    "# *** TODO Q3D ***\n",
    "# Chargez jeu de données Iris dans une variable nommée 'data'\n",
    "# Load dataset Iris in the variable named 'data'\n",
    "# ******\n",
    "\n",
    "# Créer une liste contenant toutes les paires possibles\n",
    "# Create a list with all possible pairs\n",
    "pairs = [(i, j) for i in range(4) for j in range(i+1, 4)]\n",
    "\n",
    "# Tester le classifieur avec différents lambda pour toutes les paires\n",
    "# Test the classifier with different lambda over all pairs\n",
    "for (f1, f2) in pairs:\n",
    "    f1_name = data.feature_names[f1]\n",
    "    f2_name = data.feature_names[f2]\n",
    "    \n",
    "    # *** TODO Q3D ***\n",
    "    # Créez un jeu de données contenant seulement les\n",
    "    # mesures désignées par f1 et f2\n",
    "\n",
    "    # Créez grille permettant d'afficher régions de décision pour chaque classifieur\n",
    "    # Indices : numpy.meshgrid pourrait vous être utile, mais n'utilisez pas un pas trop petit!\n",
    "    # Create a grid for displaying various decision regions for each classifier\n",
    "    # Tips: numpy.meshgrid can be useful, but don't use a too small step size\n",
    "    # ******\n",
    "\n",
    "    # On initialise les classifieurs avec différents paramètres lambda\n",
    "    classifieurs = [ClassifieurAvecRejet(0.1),\n",
    "                    ClassifieurAvecRejet(0.3),\n",
    "                    ClassifieurAvecRejet(0.5),\n",
    "                    ClassifieurAvecRejet(1)]\n",
    "\n",
    "    # Créer une figure à plusieurs sous-graphes pour pouvoir montrer,\n",
    "    # pour chaque configuration, les régions de décisions, incluant\n",
    "    # la zone de rejet\n",
    "    # Create a figure with several sub-plots to show, for all configuration,\n",
    "    # decision regions, including the reject zone\n",
    "    fig, subfigs = pyplot.subplots(2, 2, sharex='all', sharey='all',\n",
    "                                   tight_layout=True)\n",
    "    t1 = time.time()\n",
    "    for clf,subfig in zip(classifieurs, subfigs.reshape(-1)):\n",
    "        clf_name = clf.__class__.__name__ + \" (\\u03BB={})\".format(clf._lambda)        \n",
    "        if clf_name not in erreurs['Classifieurs']:\n",
    "            erreurs['Classifieurs'].append(clf_name)\n",
    "\n",
    "        # *** TODO Q3D ***\n",
    "        # Entraînez le classifieur\n",
    "        # Train the classifier\n",
    "\n",
    "        # Stockez la valeur de l'erreur dans la variable err\n",
    "        # Store error value in variable err\n",
    "\n",
    "        # Utilisez la grille pour afficher les régions de décision, \n",
    "        # INCLUANT LA ZONE DE REJET, de même que les points colorés selon \n",
    "        # leur vraie classe\n",
    "        # Use the grid to display the decision regions, INCLUDING THE\n",
    "        # REJECT ZONE, as well the points coloured according to their\n",
    "        # real labels.\n",
    "        # ******\n",
    "\n",
    "        # Ajouter l'erreur pour affichage\n",
    "        # Add error for displaying\n",
    "        erreurs[f'{f1_name} {f2_name}'].append(err)\n",
    "\n",
    "        # Ajouter un titre et des étiquettes d'axes\n",
    "        # Add title and axis labels\n",
    "        subfig.set_title(\"\\u03BB=\"+str(clf._lambda))\n",
    "        subfig.set_xlabel(data.feature_names[f1])\n",
    "        subfig.set_ylabel(data.feature_names[f2])\n",
    "        \n",
    "    ### Ne pas modifier / do not modify ###\n",
    "    t2 = time.time()\n",
    "    duration = t2 - t1\n",
    "    if duration > TMAX_Q3D:\n",
    "        print(f\"\\x1b[31m[ATTENTION] Votre code pour la question Q3D \" +\n",
    "              f\"met trop de temps à s'exécuter! Le temps maximum \" + \n",
    "              f\"permis est de {TMAX_Q3D:.4f} secondes, mais votre \" +\n",
    "              f\"code a requis {duration:.4f} secondes! Assurez-vous \" +\n",
    "              f\"que vous ne faites pas d'appels bloquants (par \" +\n",
    "              f\"exemple à show()) dans cette boucle!\\x1b[0m\")\n",
    "        \n",
    "# Affichage des erreurs / error display\n",
    "clfs = erreurs.pop('Classifieurs')\n",
    "df = pandas.DataFrame(erreurs, index=clfs)\n",
    "display.display(df)"
   ]
  },
  {
   "cell_type": "markdown",
   "id": "c56e2673",
   "metadata": {
    "editable": false,
    "id": "974b82e5",
    "lang": "fr",
    "tags": []
   },
   "source": [
    "### Entrez votre solution à Q3D dans la cellule ci-dessous"
   ]
  },
  {
   "cell_type": "markdown",
   "id": "c6f3f189",
   "metadata": {
    "editable": false,
    "id": "2d78b9a7",
    "lang": "en",
    "tags": []
   },
   "source": [
    "### Enter your answer to Q3D in the cell below"
   ]
  },
  {
   "cell_type": "code",
   "execution_count": null,
   "id": "e0d9747a",
   "metadata": {
    "deletable": false,
    "id": "cd85d3bc",
    "tags": [
     "user-answer-Q3D",
     "editable"
    ]
   },
   "outputs": [],
   "source": []
  }
 ],
 "metadata": {
  "PAX": {
   "userLang": "fr"
  },
  "celltoolbar": "",
  "jupytext": {
   "notebook_metadata_filter": "celltoolbar",
   "text_representation": {
    "extension": ".md",
    "format_name": "markdown",
    "format_version": "1.3",
    "jupytext_version": "1.11.4"
   }
  },
  "kernelspec": {
   "display_name": "Python 3 (PAX)",
   "language": "python",
   "name": "python3"
  },
  "language_info": {
   "codemirror_mode": {
    "name": "ipython",
    "version": 3
   },
   "file_extension": ".py",
   "mimetype": "text/x-python",
   "name": "python",
   "nbconvert_exporter": "python",
   "pygments_lexer": "ipython3",
   "version": "3.8.10"
  },
  "nbTranslate": {
   "displayLangs": [
    "*"
   ],
   "hotkey": "alt-t",
   "langInMainMenu": true,
   "sourceLang": "en",
   "targetLang": "fr",
   "useGoogleTranslate": true
  }
 },
 "nbformat": 4,
 "nbformat_minor": 5
}
