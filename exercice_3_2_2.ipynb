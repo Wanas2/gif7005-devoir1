{
 "cells": [
  {
   "cell_type": "markdown",
   "id": "e3dc2f8d",
   "metadata": {
    "editable": false,
    "id": "43025ab2",
    "lang": "fr",
    "tags": [
     "problem-title"
    ]
   },
   "source": [
    "# Devoir 1, Question 2 : Expérimentations avec modèles paramétriques"
   ]
  },
  {
   "cell_type": "markdown",
   "id": "205658d1",
   "metadata": {
    "editable": false,
    "id": "0ae6428a",
    "lang": "en",
    "tags": [
     "problem-title"
    ]
   },
   "source": [
    "# Homework 1, Question 2: Experiments with parametric models"
   ]
  },
  {
   "cell_type": "markdown",
   "id": "9a8c38b6",
   "metadata": {
    "editable": false,
    "id": "7fa35f07",
    "lang": "fr",
    "tags": [
     "problem-statement"
    ]
   },
   "source": [
    "## Librairies permises"
   ]
  },
  {
   "cell_type": "markdown",
   "id": "edb9aef0",
   "metadata": {
    "editable": false,
    "id": "c3037926",
    "lang": "en",
    "tags": [
     "problem-statement"
    ]
   },
   "source": [
    "## Allowed libraries"
   ]
  },
  {
   "cell_type": "code",
   "execution_count": 1,
   "id": "f039d0ab",
   "metadata": {
    "ExecuteTime": {
     "end_time": "2022-02-05T00:12:36.902736Z",
     "start_time": "2022-02-05T00:12:35.849167Z"
    },
    "editable": false,
    "id": "bea020d5",
    "tags": [
     "problem-context",
     "autoexec"
    ]
   },
   "outputs": [],
   "source": [
    "%matplotlib notebook\n",
    "import time\n",
    "import numpy\n",
    "import pandas\n",
    "import collections\n",
    "\n",
    "from IPython import display\n",
    "\n",
    "import matplotlib\n",
    "matplotlib.rcParams['figure.figsize'] = (9.0, 7.0)\n",
    "from matplotlib import pyplot\n",
    "\n",
    "# Jeux de données / datasets\n",
    "from sklearn.datasets import load_iris\n",
    "from sklearn.datasets import make_circles\n",
    "from sklearn.datasets import make_moons\n",
    "\n",
    "# Classifieurs / classifiers\n",
    "from sklearn.discriminant_analysis import QuadraticDiscriminantAnalysis\n",
    "from sklearn.discriminant_analysis import LinearDiscriminantAnalysis\n",
    "from sklearn.naive_bayes import GaussianNB\n",
    "from sklearn.neighbors import NearestCentroid\n",
    "\n",
    "# Méthodes d'évaluation / evaluation methods\n",
    "from sklearn.model_selection import train_test_split, RepeatedKFold"
   ]
  },
  {
   "cell_type": "markdown",
   "id": "fbb9b01a",
   "metadata": {
    "editable": false,
    "id": "7776649b",
    "lang": "fr",
    "tags": []
   },
   "source": [
    "## Q2A\n",
    "Les Iris de Fisher forment un jeu de données classique en apprentissage machine et en statistique, qui a été utilisé la première fois en 1936 par R. A. Fisher pour illustrer sa méthode d'analyse discriminante linéaire. Chaque donnée du jeu comporte quatre mesures, soit la longueur et largeur de sépales, et la longueur et la largeur de pétales, et ce de trois variétés d'iris : Iris Setosa, Iris Versicolore (l'emblème floral du Québec) et Iris Virginia. Les données proviennent d'iris récoltés en Gaspésie. Le jeu des Iris de Fisher disponible par la fonction `datasets.load_iris` de scikit-learn. Faites les manipulations dans les cellules suivantes.\n",
    "\n",
    "Produisez des graphiques représentant le jeu de données Iris en 2D avec indicateurs de classe, pour toutes les paires de mesures (longueur des sépales vs longueur des pétales, longueur vs largeur des sépales, etc.), afin de bien visualiser les données. Les légendes et les étiquettes d'axes des figures sont requises.\n",
    "\n",
    "Votre solution doit suivre le gabarit fourni dans la cellule de contexte ci-dessous. Copiez-le dans votre cellule de solution et complétez les parties manquantes."
   ]
  },
  {
   "cell_type": "markdown",
   "id": "6e008798",
   "metadata": {
    "editable": false,
    "id": "09528b53",
    "lang": "en",
    "tags": []
   },
   "source": [
    "## Q2A\n",
    "Fisher's Irises are a classic machine learning and statistical dataset, which was first used in 1936 by R. A. Fisher to illustrate his method of linear discriminant analysis. Each data in the set has four measurements, namely the length and width of sepals, and the length and width of petals, and this of three varieties of iris: Iris Setosa, Iris Versicolore (the floral emblem of Quebec) and Iris Virginia . The data come from irises collected in the Gaspé Peninsula. The Fisher Iris set available by the `datasets.load_iris` function of scikit-learn. Do the manipulations in the following cells.\n",
    "\n",
    "Produce graphs for your report representing the 2D dataset with class indicators, for all pairs of measures (sepal length vs petal length, sepal length vs width, etc.), in order to visualize the data properly. Figure legends and axis labels are required."
   ]
  },
  {
   "cell_type": "markdown",
   "id": "cfce78a9",
   "metadata": {
    "editable": false,
    "id": "ab2180e6",
    "lang": "fr",
    "tags": []
   },
   "source": [
    "### Patron de code réponse à l'exercice Q2A"
   ]
  },
  {
   "cell_type": "markdown",
   "id": "76f9c907",
   "metadata": {
    "editable": false,
    "id": "50fd09de",
    "lang": "en",
    "tags": []
   },
   "source": [
    "### Q2A answer code template"
   ]
  },
  {
   "cell_type": "code",
   "execution_count": null,
   "id": "e394cbf8",
   "metadata": {
    "editable": false,
    "id": "2bb2982f",
    "lang": "fr",
    "tags": []
   },
   "outputs": [],
   "source": [
    "# Durée d'exécution maximale / maximum execution time\n",
    "TMAX_Q2A = 0.5\n",
    "\n",
    "# *** TODO Q2A ***\n",
    "# Chargez jeu de données 'iris' dans une variable nommée 'data'\n",
    "# Load the 'iris' dataset in a variable named 'data'\n",
    "# ******\n",
    "\n",
    "# Créer une liste contenant toutes les paires de mesures\n",
    "# Create a list containing all possible measurements pairs\n",
    "pairs = [(i, j) for i in range(4) for j in range(i+1, 4)]\n",
    "\n",
    "# Créer une figure à plusieurs sous-graphes\n",
    "# Create a figure with several subplots\n",
    "fig, subfigs = pyplot.subplots(2, 3, tight_layout=True)\n",
    "t1 = time.time()\n",
    "for (f1, f2), subfig in zip(pairs, subfigs.reshape(-1)):\n",
    "    # *** TODO Q2A ***\n",
    "    # Affichez les données en utilisant f1 et f2 comme mesures\n",
    "    # Plot data using f1 and f2 as measurements\n",
    "    pass # Retirez le pass / remove the pass\n",
    "    # ******\n",
    "\n",
    "t2 = time.time()\n",
    "\n",
    "### Ne pas modifier / do not modify ###\n",
    "duration = t2 - t1\n",
    "if duration > TMAX_Q2A:\n",
    "    print(f\"\\x1b[31m[ATTENTION] Votre code pour la question Q2A \"  +\n",
    "          f\"met trop de temps à s'exécuter! Le temps maximum \"    + \n",
    "          f\"permis est de {TMAX_Q2A:.4f} secondes, mais votre \"   +\n",
    "          f\"code a requis {duration:.4f} secondes! Assurez-vous \" +\n",
    "          f\"que vous ne faites pas d'appels bloquants (par \"      +\n",
    "          f\"exemple à show()) dans cette boucle!\\x1b[0m\")"
   ]
  },
  {
   "cell_type": "markdown",
   "id": "7239c181",
   "metadata": {
    "editable": false,
    "id": "7aeab6f6",
    "lang": "fr",
    "tags": []
   },
   "source": [
    "### Entrez votre solution à Q2A dans la cellule ci-dessous"
   ]
  },
  {
   "cell_type": "markdown",
   "id": "cbe401ab",
   "metadata": {
    "editable": false,
    "id": "7cc94540",
    "lang": "en",
    "tags": []
   },
   "source": [
    "### Enter your answer to Q2A in the cell below"
   ]
  },
  {
   "cell_type": "markdown",
   "id": "beae6070",
   "metadata": {
    "editable": false,
    "tags": [
     "feedback"
    ]
   },
   "source": [
    "<div class=\"feedback-cell\" style=\"background: rgba(100 , 100 , 100 , 0.4)\">\n",
    "            <h3>Votre soumission a été enregistrée!</h3><ul><li>notez qu'il n'y a\n",
    "            <strong>pas</strong> de correction automatique pour cet exercice&puncsp;;</li>\n",
    "            <li>par conséquent, votre note est <strong>actuellement</strong> zéro&puncsp;;</li>\n",
    "            <li>elle sera cependant ajustée par le professeur dès que la correction manuelle\n",
    "            sera complétée&puncsp;;</li><li>vous pouvez soumettre autant de fois que nécessaire\n",
    "            jusqu'à la date d'échéance&puncsp;;</li><li>mais évitez de soumettre inutilement.</li>\n",
    "            </ul></div>"
   ]
  },
  {
   "cell_type": "code",
   "execution_count": null,
   "id": "bd51d0ed",
   "metadata": {
    "deletable": false,
    "id": "2f4a9802",
    "tags": [
     "user-answer-Q2A",
     "editable"
    ]
   },
   "outputs": [],
   "source": [
    "TMAX_Q2A = 0.5\n",
    "\n",
    "data = load_iris()\n",
    "\n",
    "X, y = data.data, data.target\n",
    "colors = numpy.array([x for x in \"bgrcmyk\"])\n",
    "\n",
    "pairs = [(i, j) for i in range(4) for j in range(i+1, 4)]\n",
    "\n",
    "fig, subfigs = pyplot.subplots(2, 3, tight_layout=True)\n",
    "\n",
    "t1 = time.time()\n",
    "\n",
    "for (f1, f2), subfig in zip(pairs, subfigs.reshape(-1)):\n",
    "    subfig.scatter(X[:, f1], X[:, f2], c=colors[y])\n",
    "pyplot.show()\n",
    "    \n",
    "t2 = time.time()\n",
    "\n",
    "duration = t2 - t1\n",
    "if duration > TMAX_Q2A:\n",
    "    print(f\"\\x1b[31m[ATTENTION] Votre code pour la question Q2A \"  +\n",
    "          f\"met trop de temps à s'exécuter! Le temps maximum \"    + \n",
    "          f\"permis est de {TMAX_Q2A:.4f} secondes, mais votre \"   +\n",
    "          f\"code a requis {duration:.4f} secondes! Assurez-vous \" +\n",
    "          f\"que vous ne faites pas d'appels bloquants (par \"      +\n",
    "          f\"exemple à show()) dans cette boucle!\\x1b[0m\")"
   ]
  },
  {
   "cell_type": "markdown",
   "id": "f9faca35",
   "metadata": {
    "editable": false,
    "id": "bf792785",
    "lang": "fr",
    "tags": []
   },
   "source": [
    "## Q2B\n",
    "Expérimentez avec les classifieurs paramétriques suivants. Pour chaque classifieur testé, donnez l'erreur empirique correspondant au taux d'erreur de classement sur le jeu de données au complet (erreur sur le jeu d'entraînement) avec chacune des paires de mesures possibles. Ces erreurs doivent être retournées dans un DataFrame tel qu'utilisé dans le code donné. Représentez également les résultats visuellement, en traçant les données (avec indicateurs de classe) et les régions de décision dans des figures 2D, pour toutes de ces paires de mesures.\n",
    "\n",
    "Cas d'expérimentation :\n",
    "1. Classifieur bayésien de loi normale multivariée avec matrices de covariance $\\mathbf{\\Sigma}_i$ complètes et distinctes pour chaque classe.\n",
    "2. Classifieur bayésien de loi normale multivariée avec matrice de covariance $\\mathbf{\\Sigma}$ complète et partagée entre chaque classe.\n",
    "3. Classifieur bayésien de loi normale multivariée avec matrices de covariance $\\mathbf{\\Sigma}_i$ diagonales ($\\sigma_{i,j}=0,~\\forall i \\neq j$) et distinctes entre les classes.\n",
    "4. Classifieur bayésien de loi normale multivariée avec matrice de covariance isotropique,soit $\\mathbf{\\Sigma}=\\sigma^{2}\\mathbf{I}$ avec valeurs égales sur la diagonale ($\\sigma_j^2=\\sigma^2$) et nulles hors de la diagonale ($\\sigma_{j,k}=0,\\forall j\\neq k$), avec également un partage de la matrice de covariance entre chaque classe et des probabilités a priori égales pour chaque classe ($P(C_i)=P(C_j),~\\forall i,j$)."
   ]
  },
  {
   "cell_type": "markdown",
   "id": "640a8b1e",
   "metadata": {
    "editable": false,
    "id": "ad76dd75",
    "lang": "en",
    "tags": []
   },
   "source": [
    "## Q2B\n",
    "Experiment with the following parametric classifiers. For each classifier tested, give the empirical error corresponding to the rate of classification error on the entire dataset (error on the training set) with each of the possible pairs of measures. These errors should be returned in a DataFrame as used in the given code. Also represent the results visually, plotting the data (with class indicators) and decision regions in 2D figures, for all of these pairs of measures.\n",
    "\n",
    "Cases for the experiment:\n",
    "1. Multivariate normal distribution Bayesian classifier with complete and distinct $\\mathbf{\\Sigma}_i$ covariance matrices for each class.\n",
    "2. Multivariate normal distribution Bayesian classifier with complete $\\mathbf{\\Sigma}$ covariance matrix shared between each class.\n",
    "3. Multivariate normal distribution Bayesian classifier with diagonal ($\\sigma_{i,j}=0,~\\forall i \\neq j$) and distinct covariance matrices $\\mathbf{\\Sigma}_i$ between classes.\n",
    "4. Bayesian multivariate normal distribution classifier with isotropic covariance matrix, i.e. $\\mathbf{\\Sigma}=\\sigma^{2}\\mathbf{I}$ with equal values ​​on the diagonal ($\\sigma_j^2=\\sigma^2$) and zero outside the diagonal ($\\sigma_{j,k}=0,\\forall j\\neq k$), also with a sharing of the covariance matrix between each class and a priori probabilities equal for each class ($P(C_i)=P(C_j),~\\forall i,j$)."
   ]
  },
  {
   "cell_type": "markdown",
   "id": "036d48e4",
   "metadata": {
    "editable": false,
    "id": "35eb0a72",
    "lang": "fr",
    "tags": []
   },
   "source": [
    "### Patron de code réponse pour Q2B"
   ]
  },
  {
   "cell_type": "markdown",
   "id": "f37e3fff",
   "metadata": {
    "editable": false,
    "id": "aebc6995",
    "lang": "en",
    "tags": []
   },
   "source": [
    "### Q2B answer code template"
   ]
  },
  {
   "cell_type": "code",
   "execution_count": null,
   "id": "aaadd25b",
   "metadata": {
    "editable": false,
    "id": "db16f923",
    "tags": []
   },
   "outputs": [],
   "source": [
    "# Durée d'exécution maximale / maximum execution time\n",
    "TMAX_Q2B = 1.5\n",
    "\n",
    "# Erreur maximale attendue / maximum error expected\n",
    "ERRMAX_Q2B = 0.22\n",
    "\n",
    "# Dictionnaire pour enregistrer les erreurs selon les classifieurs\n",
    "# Dictionary to record errors according to classifiers\n",
    "erreurs = collections.defaultdict(list)\n",
    "erreurs['Classifieurs'] = []\n",
    "\n",
    "# Traiter par paires de mesures avec réentraînement\n",
    "# Process with pairs of measures with retraining\n",
    "for (f1, f2) in pairs:\n",
    "    f1_name = data.feature_names[f1]\n",
    "    f2_name = data.feature_names[f2]\n",
    "    \n",
    "    # *** TODO Q2B ***\n",
    "    # Créez un jeu de données contenant seulement f1 et f2\n",
    "    # Create a dataset with only f1 and f2\n",
    "\n",
    "    # Initialisez différents classifieurs dans la liste nommée 'classifieurs'\n",
    "    # Initialize various classifiers in the list named 'classifiers'\n",
    "    classifieurs = []\n",
    "\n",
    "    # Créez grille permettant d'afficher régions de décision pour chaque classifieur\n",
    "    # Indices : numpy.meshgrid pourrait vous être utile, mais n'utilisez pas un pas trop petit!\n",
    "    # Create a grid for displaying various decision regions for each classifier\n",
    "    # Tips: numpy.meshgrid can be useful, but don't use a too small step size\n",
    "    # *******\n",
    "\n",
    "    # Créer une figure à plusieurs sous-graphes\n",
    "    # Create a figure with several subplots\n",
    "    fig, subfigs = pyplot.subplots(2, 2, sharex='all', sharey='all',\n",
    "                                  tight_layout=True)\n",
    "    t1 = time.time()\n",
    "    for clf,subfig in zip(classifieurs, subfigs.reshape(-1)):\n",
    "        clf_name = clf.__class__.__name__\n",
    "        if clf_name not in erreurs['Classifieurs']:\n",
    "            erreurs['Classifieurs'].append(clf_name)\n",
    "        \n",
    "        # *** TODO Q2B ***\n",
    "        # Entraînez le classifieur\n",
    "        # Train the classifier\n",
    "\n",
    "        # Obtenez et affichez son erreur (1 - accuracy)\n",
    "        # Obtain and display its error (1 - accuracy)\n",
    "\n",
    "        # Stockez la valeur de cette erreur dans la variable err\n",
    "        # Store this error in variable err\n",
    "\n",
    "        # Utilisez la grille que vous avez créée plus haut\n",
    "        # pour afficher les régions de décision, de même\n",
    "        # que les points colorés selon leur vraie classe\n",
    "        # Use the grid created below to display decision regions\n",
    "        # as well dots of the samples coloured according to their\n",
    "        # real class label\n",
    "        # ******\n",
    "\n",
    "        # Ajouter l'erreur pour affichage\n",
    "        # Add error for displaying\n",
    "        erreurs[f'{f1_name} {f2_name}'].append(err)\n",
    "\n",
    "        # Identifier axes et méthodes\n",
    "        # Identify axes and methods\n",
    "        subfig.set_xlabel(f1_name)\n",
    "        subfig.set_ylabel(f2_name)\n",
    "        subfig.set_title(clf_name)\n",
    "        \n",
    "        ### Ne pas modifier / do not modify ###\n",
    "        if err > ERRMAX_Q2B:\n",
    "            print(f\"\\x1b[31m[ATTENTION] Votre code pour la \" +\n",
    "                  f\"question Q2B ne produit pas les performances\" +\n",
    "                  f\"attendues! Le taux d'erreur maximal attendu \" +\n",
    "                  f\"est de {ERRMAX_Q2B:.3f}, mais l'erreur \" + \n",
    "                  f\"rapportée dans votre code est de {err:.3f}!\\x1b[0m\")\n",
    "            \n",
    "    t2 = time.time()\n",
    "    duration = t2 - t1\n",
    "    if duration > TMAX_Q2B:\n",
    "        print(f\"\\x1b[31m[ATTENTION] Votre code pour la question Q2B \"  +\n",
    "              f\"met trop de temps à s'exécuter! Le temps maximum \"    + \n",
    "              f\"permis est de {TMAX_Q2B:.4f} secondes, mais votre \"   +\n",
    "              f\"code a requis {duration:.4f} secondes! Assurez-vous \" +\n",
    "              f\"que vous ne faites pas d'appels bloquants (par \"      +\n",
    "              f\"exemple à show()) dans cette boucle!\\x1b[0m\")\n",
    "        \n",
    "# Affichage des erreurs / display errors\n",
    "clfs = erreurs.pop('Classifieurs')\n",
    "df = pandas.DataFrame(erreurs, index=clfs)\n",
    "display.display(df)"
   ]
  },
  {
   "cell_type": "markdown",
   "id": "128659f5",
   "metadata": {
    "editable": false,
    "id": "91cfac73",
    "lang": "fr",
    "tags": []
   },
   "source": [
    "### Entrez votre solution à Q2B dans la cellule ci-dessous"
   ]
  },
  {
   "cell_type": "markdown",
   "id": "8b8ed520",
   "metadata": {
    "editable": false,
    "id": "66eefd73",
    "lang": "en",
    "tags": []
   },
   "source": [
    "### Enter your answer to Q2B in the cell below"
   ]
  },
  {
   "cell_type": "code",
   "execution_count": null,
   "id": "ccc40493",
   "metadata": {
    "deletable": false,
    "id": "fe4409b3",
    "tags": [
     "user-answer-Q2B",
     "editable"
    ]
   },
   "outputs": [],
   "source": [
    "TMAX_Q2B = 1.5\n",
    "\n",
    "ERRMAX_Q2B = 0.22\n",
    "\n",
    "erreurs = collections.defaultdict(list)\n",
    "erreurs['Classifieurs'] = []\n",
    "\n",
    "for (f1, f2) in pairs:\n",
    "    f1_name = data.feature_names[f1]\n",
    "    f2_name = data.feature_names[f2]\n",
    "    \n",
    "    \n",
    "    X1 = pandas.DataFrame(X, columns=data.feature_names)[[f1_name, f2_name]].to_numpy()\n",
    "    \n",
    "    \n",
    "    classifieurs = [QuadraticDiscriminantAnalysis(), LinearDiscriminantAnalysis(), GaussianNB(), NearestCentroid()]\n",
    "\n",
    "    \n",
    "    h = .02\n",
    "    x_min, x_max = X1[:, 0].min() - 1, X1[:, 0].max() + 1\n",
    "    y_min, y_max = X1[:, 1].min() - 1, X1[:, 1].max() + 1\n",
    "    xx, yy = numpy.meshgrid(numpy.arange(x_min, x_max, h), numpy.arange(y_min, y_max, h))\n",
    "\n",
    "\n",
    "    fig, subfigs = pyplot.subplots(2, 2, sharex='all', sharey='all', tight_layout=True)\n",
    "    \n",
    "    t1 = time.time()\n",
    "    \n",
    "    for clf,subfig in zip(classifieurs, subfigs.reshape(-1)):\n",
    "        clf_name = clf.__class__.__name__\n",
    "        if clf_name not in erreurs['Classifieurs']:\n",
    "            erreurs['Classifieurs'].append(clf_name)\n",
    "        \n",
    "        clf.fit(X1, y)\n",
    "\n",
    "        err = 1 - clf.score(X1, y)\n",
    "        print(\"{} - {}, {} = {}\".format(clf, f1_name, f1_name, err))\n",
    "     \n",
    "        r = clf.predict(numpy.c_[xx.ravel(), yy.ravel()])  \n",
    "        r = r.reshape(xx.shape)\n",
    "        \n",
    "        subfig.contourf(xx, yy, r, cmap=pyplot.cm.Paired, alpha=0.8)\n",
    "        subfig.scatter(X1[:, 0], X1[:, 1], cmap=pyplot.cm.Paired, c=colors[y])\n",
    "        \n",
    "        pyplot.xlim(xx.min(), xx.max())\n",
    "        pyplot.ylim(yy.min(), yy.max())\n",
    "        pyplot.show()\n",
    "        \n",
    "\n",
    "        erreurs[f'{f1_name} {f2_name}'].append(err)\n",
    "\n",
    "        subfig.set_xlabel(f1_name)\n",
    "        subfig.set_ylabel(f2_name)\n",
    "        subfig.set_title(clf_name)\n",
    "        \n",
    "        if err > ERRMAX_Q2B:\n",
    "            print(f\"\\x1b[31m[ATTENTION] Votre code pour la \" +\n",
    "                  f\"question Q2B ne produit pas les performances\" +\n",
    "                  f\"attendues! Le taux d'erreur maximal attendu \" +\n",
    "                  f\"est de {ERRMAX_Q2B:.3f}, mais l'erreur \" + \n",
    "                  f\"rapportée dans votre code est de {err:.3f}!\\x1b[0m\")\n",
    "            \n",
    "    t2 = time.time()\n",
    "    duration = t2 - t1\n",
    "    if duration > TMAX_Q2B:\n",
    "        print(f\"\\x1b[31m[ATTENTION] Votre code pour la question Q2B \"  +\n",
    "              f\"met trop de temps à s'exécuter! Le temps maximum \"    + \n",
    "              f\"permis est de {TMAX_Q2B:.4f} secondes, mais votre \"   +\n",
    "              f\"code a requis {duration:.4f} secondes! Assurez-vous \" +\n",
    "              f\"que vous ne faites pas d'appels bloquants (par \"      +\n",
    "              f\"exemple à show()) dans cette boucle!\\x1b[0m\")\n",
    "        \n",
    "clfs = erreurs.pop('Classifieurs')\n",
    "df = pandas.DataFrame(erreurs, index=clfs)\n",
    "display.display(df)"
   ]
  },
  {
   "cell_type": "markdown",
   "id": "672a13cc",
   "metadata": {
    "editable": false,
    "id": "9947fc2e",
    "lang": "fr",
    "tags": []
   },
   "source": [
    "## Q2C\n",
    "En utilisant un classifieur bayésien de loi normale multivariée avec matrices de covariance $\\mathbf{\\Sigma}_i$ complètes et distinctes pour chaque classe, comparez et rapportez les résultats obtenus dans un tableau selon trois méthodologies expérimentales:\n",
    "1. Erreur empirique rapportée sur le jeu entier (erreur sur le jeu d’entraînement).\n",
    "2. Partition aléatoire en un jeu d’entraînement (50 %), utilisé pour évaluer les paramètres des distributions, et de validation (50 %), utilisé pour calculer l’erreur en généralisation. Répétez les expériences 100 fois, à chaque fois avec des partitions aléatoires entraînement/validation distinctes. Rapportez l’erreur en généralisation moyenne.\n",
    "3. Évaluation des performances selon une méthodologie de validation à $k$ plis, en utilisant $k=3$ plis.  Faites  100  répétitions  de  l’expérience,  avec  un  partitionnement  différent  à chaque fois, et rapportez le taux d’erreur moyen."
   ]
  },
  {
   "cell_type": "markdown",
   "id": "b2e36eb5",
   "metadata": {
    "editable": false,
    "id": "3234864a",
    "lang": "en",
    "tags": []
   },
   "source": [
    "## Q2C\n",
    "Using a Bayesian multivariate Gaussian distribution classifier with complete and distinct $\\mathbf{\\Sigma}_i$ covariance matrices for each class, compare and show the results obtained in a table according to three experimental methodologies:\n",
    "1. Empirical error reported for the entire set (training set error).\n",
    "2. Random partition into a training set (50%), used to evaluate the parameters of distributions, and validation (50%), used to calculate the error in generalization. Repeat the experiments 100 times, each time with separate training / validation random partitions. Report the average generalization error.\n",
    "3. Performance evaluation according to a $k$-fold cross-validation methodology, using $k=3$ folds. Do 100 repetitions of the experiment, with different partitioning each time, and report the average error rate."
   ]
  },
  {
   "cell_type": "markdown",
   "id": "dfc4156c",
   "metadata": {
    "editable": false,
    "id": "1d9c5b3a",
    "lang": "fr",
    "tags": []
   },
   "source": [
    "### Patron de code réponse pour Q2C"
   ]
  },
  {
   "cell_type": "markdown",
   "id": "9bd24be4",
   "metadata": {
    "editable": false,
    "id": "5093052e",
    "lang": "en",
    "tags": []
   },
   "source": [
    "### Q2C answer code template"
   ]
  },
  {
   "cell_type": "code",
   "execution_count": null,
   "id": "da926c9f",
   "metadata": {
    "editable": false,
    "id": "6d894480",
    "tags": []
   },
   "outputs": [],
   "source": [
    "# Durées d'exécutions maximales / maximum execution duration\n",
    "TMAX_Q2C_1 = 0.5\n",
    "TMAX_Q2C_2 = 2.\n",
    "TMAX_Q2C_3 = 2.\n",
    "\n",
    "# Erreurs maximales attendues / maximum error expected\n",
    "ERRMAX_Q2C_1 = 0.07\n",
    "ERRMAX_Q2C_2 = 0.07\n",
    "ERRMAX_Q2C_3 = 0.07\n",
    "\n",
    "# Dictionnaire pour enregistrer erreurs selon les méthodologies\n",
    "# Dictionary for recording errors according to the methodologies\n",
    "erreurs = collections.OrderedDict()\n",
    "\n",
    "t1 = time.time()\n",
    "# *** TODO Q2C.1 ***\n",
    "# Donnez le code permettant de calculer l'erreur sur le jeu de\n",
    "# données entier avec le classifieur mentionné dans l'énoncé.\n",
    "# Provide the code for computing the error on the whole dataset\n",
    "# with the classifier mentioned in the statement.\n",
    "\n",
    "# Stockez l'erreur dans une variable nommée err\n",
    "# Store error in the variable named err\n",
    "# ******\n",
    "\n",
    "# Ajout de l'erreur pour affichage / add error for displaying\n",
    "erreurs['Jeu entier'] = err\n",
    "\n",
    "### Ne pas modifier / do not modify ###\n",
    "t2 = time.time()\n",
    "duration = t2 - t1\n",
    "if duration > TMAX_Q2C_1:\n",
    "    print(f\"\\x1b[31m[ATTENTION] Votre code pour la question Q2C.1 \" +\n",
    "          f\"met trop de temps à s'exécuter! Le temps maximum \" + \n",
    "          f\"permis est de {TMAX_Q2C_1:.4f} secondes, mais votre \" +\n",
    "          f\"code a requis {duration:.4f} secondes! Assurez-vous \" +\n",
    "          f\"que vous ne faites pas d'appels bloquants (par \" +\n",
    "          f\"exemple à show()) dans cette boucle!\\x1b[0m\")\n",
    "if err > ERRMAX_Q2C_1:\n",
    "    print(f\"\\x1b[31m[ATTENTION] Votre code pour la question Q2C.1 ne \" + \n",
    "          f\"produit pas les performances attendues! Le taux \" +\n",
    "          f\"d'erreur maximal attendu est de {ERRMAX_Q2C_1:.3f}, \" +\n",
    "          f\"mais l'erreur rapportée dans votre code est de \" +\n",
    "          f\"{err:.3f}!\\x1b[0m\")\n",
    "\n",
    "t1 = time.time()\n",
    "\n",
    "# *** TODO Q2C.2 ***\n",
    "# Partitionnez les données en jeux d'entraînement et de validation\n",
    "# Partition the data in a training and validation set.\n",
    "\n",
    "# Évaluez la performance du classifieur de l'énoncé\n",
    "# Evaluate the performance of the classifier mentioned in the statement\n",
    "\n",
    "# Répétez cette mesure 100 fois avec des partitions différentes\n",
    "# Repeat this measure 100 times, with different partitions each time\n",
    "\n",
    "# Stockez l'erreur moyenne sur ces 100 itérations dans la variable 'avgError'\n",
    "# Store the average error over these 100 iterations in a variable named 'avgError'\n",
    "# ******\n",
    "\n",
    "# Ajout de l'erreur pour affichage / add error for displaying\n",
    "erreurs['50/50 Train/Valid'] = avgError\n",
    "\n",
    "### Ne pas modifier / do not modify ###\n",
    "t2 = time.time()\n",
    "duration = t2 - t1\n",
    "if duration > TMAX_Q2C_2:\n",
    "    print(f\"\\x1b[31m[ATTENTION] Votre code pour la question Q2C.2 \" +\n",
    "          f\"met trop de temps à s'exécuter! Le temps maximum \" + \n",
    "          f\"permis est de {TMAX_Q2C_2:.4f} secondes, mais votre \" +\n",
    "          f\"code a requis {duration:.4f} secondes! Assurez-vous \" +\n",
    "          f\"que vous ne faites pas d'appels bloquants (par \" +\n",
    "          f\"exemple à show()) dans cette boucle!\\x1b[0m\")\n",
    "if avgError > ERRMAX_Q2C_2:\n",
    "    print(f\"\\x1b[31m[ATTENTION] Votre code pour la question Q2C.2 ne \" + \n",
    "          f\"produit pas les performances attendues! Le taux \" +\n",
    "          f\"d'erreur maximal attendu est de {ERRMAX_Q2C_2:.3f}, \" +\n",
    "          f\"mais l'erreur rapportée dans votre code est de \" +\n",
    "          f\"{avgError:.3f}!\\x1b[0m\")\n",
    "\n",
    "\n",
    "t1 = time.time()\n",
    "# *** TODO Q2C.3 ***\n",
    "# Déterminez la performance du classifieur selon un K-plis (K-fold), avec K=3\n",
    "# Determine classifier performance in a K-fold cross-validation manner, with K=3\n",
    "\n",
    "# Répétez l'évaluation par K-plis 100 fois\n",
    "# Repeat the K-fold evaluation 100 times\n",
    "\n",
    "# Stockez l'erreur moyenne sur ces 100 itérations dans une variable nommée avgError\n",
    "# Store the average error over these 100 iterations in a variable named 'avgError'\n",
    "# ******\n",
    "\n",
    "# Ajout de l'erreur pour affichage / add error for displaying\n",
    "erreurs['Validation 3-fold'] = avgError\n",
    "\n",
    "### Ne pas modifier / do not modify ###\n",
    "t2 = time.time()\n",
    "duration = t2 - t1\n",
    "if duration > TMAX_Q2C_3:\n",
    "    print(f\"\\x1b[31m[ATTENTION] Votre code pour la question Q2C.3 \" +\n",
    "          f\"met trop de temps à s'exécuter! Le temps maximum \" + \n",
    "          f\"permis est de {TMAX_Q2C_3:.4f} secondes, mais votre \" +\n",
    "          f\"code a requis {duration:.4f} secondes! Assurez-vous \" +\n",
    "          f\"que vous ne faites pas d'appels bloquants (par \" +\n",
    "          f\"exemple à show()) dans cette boucle!\\x1b[0m\")\n",
    "if avgError > ERRMAX_Q2C_3:\n",
    "    print(f\"\\x1b[31m[ATTENTION] Votre code pour la question Q2C.3 ne \" + \n",
    "          f\"produit pas les performances attendues! Le taux \" +\n",
    "          f\"d'erreur maximal attendu est de {ERRMAX_Q2C_3:.3f}, \" +\n",
    "          f\"mais l'erreur rapportée dans votre code est de \" +\n",
    "          f\"{avgError:.3f}!\\x1b[0m\")\n",
    "df = pandas.DataFrame(erreurs, index=['Erreurs'])\n",
    "display.display(df)"
   ]
  },
  {
   "cell_type": "markdown",
   "id": "3ddcf804",
   "metadata": {
    "editable": false,
    "id": "7f0b3531",
    "lang": "fr",
    "tags": []
   },
   "source": [
    "### Entrez votre solution à Q2C dans la cellule ci-dessous"
   ]
  },
  {
   "cell_type": "markdown",
   "id": "5ee72dd5",
   "metadata": {
    "editable": false,
    "id": "d173c9bd",
    "lang": "en",
    "tags": []
   },
   "source": [
    "### Enter your answer to Q2C in the cell below"
   ]
  },
  {
   "cell_type": "code",
   "execution_count": null,
   "id": "b1210775",
   "metadata": {
    "deletable": false,
    "id": "8f2f5b3c",
    "tags": [
     "user-answer-Q2C",
     "editable"
    ]
   },
   "outputs": [],
   "source": [
    "TMAX_Q2C_1 = 0.5\n",
    "TMAX_Q2C_2 = 2.\n",
    "TMAX_Q2C_3 = 2.\n",
    "\n",
    "\n",
    "ERRMAX_Q2C_1 = 0.07\n",
    "ERRMAX_Q2C_2 = 0.07\n",
    "ERRMAX_Q2C_3 = 0.07\n",
    "\n",
    "\n",
    "erreurs = collections.OrderedDict()\n",
    "\n",
    "t1 = time.time()\n",
    "\n",
    "clf = QuadraticDiscriminantAnalysis()\n",
    "\n",
    "\n",
    "clf.fit(X, y)\n",
    "\n",
    "err = 1 - clf.score(X, y)\n",
    "print(\"Erreur sur le jeu entier =\", err) \n",
    "    \n",
    "erreurs['Jeu entier'] = err\n",
    "\n",
    "t2 = time.time()\n",
    "duration = t2 - t1\n",
    "if duration > TMAX_Q2C_1:\n",
    "    print(f\"\\x1b[31m[ATTENTION] Votre code pour la question Q2C.1 \" +\n",
    "          f\"met trop de temps à s'exécuter! Le temps maximum \" + \n",
    "          f\"permis est de {TMAX_Q2C_1:.4f} secondes, mais votre \" +\n",
    "          f\"code a requis {duration:.4f} secondes! Assurez-vous \" +\n",
    "          f\"que vous ne faites pas d'appels bloquants (par \" +\n",
    "          f\"exemple à show()) dans cette boucle!\\x1b[0m\")\n",
    "if err > ERRMAX_Q2C_1:\n",
    "    print(f\"\\x1b[31m[ATTENTION] Votre code pour la question Q2C.1 ne \" + \n",
    "          f\"produit pas les performances attendues! Le taux \" +\n",
    "          f\"d'erreur maximal attendu est de {ERRMAX_Q2C_1:.3f}, \" +\n",
    "          f\"mais l'erreur rapportée dans votre code est de \" +\n",
    "          f\"{err:.3f}!\\x1b[0m\")\n",
    "\n",
    "t1 = time.time()\n",
    "\n",
    "\n",
    "X_train, X_test, y_train, y_test = train_test_split(X,y, train_size=0.5, test_size=0.5)\n",
    "clf.fit(X_train, y_train)\n",
    "\n",
    "\n",
    "err = 1 - clf.score(X_test, y_test)\n",
    "print(\"Erreur 50/50 Train/Valid = \", err)\n",
    "\n",
    "\n",
    "errs = numpy.zeros(100)\n",
    "errs[0] = err\n",
    "for i in range(99):\n",
    "    X_train, X_test, y_train, y_test = train_test_split(X,y, train_size=0.5, test_size=0.5)\n",
    "    clf.fit(X_train, y_train)\n",
    "    errs[i+1] = 1 - clf.score(X_test, y_test)\n",
    "\n",
    "    \n",
    "avgError = numpy.mean(errs)\n",
    "print(\"Erreur moyenne 50/50 Train/Valid = \", avgError)\n",
    "\n",
    "\n",
    "erreurs['50/50 Train/Valid'] = avgError\n",
    "\n",
    "\n",
    "t2 = time.time()\n",
    "duration = t2 - t1\n",
    "if duration > TMAX_Q2C_2:\n",
    "    print(f\"\\x1b[31m[ATTENTION] Votre code pour la question Q2C.2 \" +\n",
    "          f\"met trop de temps à s'exécuter! Le temps maximum \" + \n",
    "          f\"permis est de {TMAX_Q2C_2:.4f} secondes, mais votre \" +\n",
    "          f\"code a requis {duration:.4f} secondes! Assurez-vous \" +\n",
    "          f\"que vous ne faites pas d'appels bloquants (par \" +\n",
    "          f\"exemple à show()) dans cette boucle!\\x1b[0m\")\n",
    "if avgError > ERRMAX_Q2C_2:\n",
    "    print(f\"\\x1b[31m[ATTENTION] Votre code pour la question Q2C.2 ne \" + \n",
    "          f\"produit pas les performances attendues! Le taux \" +\n",
    "          f\"d'erreur maximal attendu est de {ERRMAX_Q2C_2:.3f}, \" +\n",
    "          f\"mais l'erreur rapportée dans votre code est de \" +\n",
    "          f\"{avgError:.3f}!\\x1b[0m\")\n",
    "\n",
    "\n",
    "t1 = time.time()\n",
    "\n",
    "\n",
    "X_train, X_test, y_train, y_test = train_test_split(X,y, train_size=0.67, test_size=0.33)\n",
    "clf.fit(X_train, y_train)\n",
    "\n",
    "\n",
    "err = 1 - clf.score(X_test, y_test)\n",
    "print(\"Erreur 3-Fold = \", avgError)\n",
    "\n",
    "\n",
    "errs = numpy.zeros(100)\n",
    "errs[0] = err\n",
    "count = 1\n",
    "rkf = RepeatedKFold(n_splits=3, n_repeats=33)\n",
    "for train_index, test_index in rkf.split(X):\n",
    "    X_train, X_test = X[train_index], X[test_index]\n",
    "    y_train, y_test = y[train_index], y[test_index]\n",
    "    clf.fit(X_train, y_train)\n",
    "    errs[count-1] = 1 - clf.score(X_test, y_test)\n",
    "    count = count + 1\n",
    "\n",
    "avgError = numpy.mean(errs)\n",
    "print(\"Erreur moyenne 3-Fold = \", avgError)\n",
    "\n",
    "\n",
    "erreurs['Validation 3-fold'] = avgError\n",
    "\n",
    "\n",
    "t2 = time.time()\n",
    "duration = t2 - t1\n",
    "if duration > TMAX_Q2C_3:\n",
    "    print(f\"\\x1b[31m[ATTENTION] Votre code pour la question Q2C.3 \" +\n",
    "          f\"met trop de temps à s'exécuter! Le temps maximum \" + \n",
    "          f\"permis est de {TMAX_Q2C_3:.4f} secondes, mais votre \" +\n",
    "          f\"code a requis {duration:.4f} secondes! Assurez-vous \" +\n",
    "          f\"que vous ne faites pas d'appels bloquants (par \" +\n",
    "          f\"exemple à show()) dans cette boucle!\\x1b[0m\")\n",
    "if avgError > ERRMAX_Q2C_3:\n",
    "    print(f\"\\x1b[31m[ATTENTION] Votre code pour la question Q2C.3 ne \" + \n",
    "          f\"produit pas les performances attendues! Le taux \" +\n",
    "          f\"d'erreur maximal attendu est de {ERRMAX_Q2C_3:.3f}, \" +\n",
    "          f\"mais l'erreur rapportée dans votre code est de \" +\n",
    "          f\"{avgError:.3f}!\\x1b[0m\")\n",
    "df = pandas.DataFrame(erreurs, index=['Erreurs'])\n",
    "display.display(df)"
   ]
  },
  {
   "cell_type": "markdown",
   "id": "5475708b",
   "metadata": {
    "editable": false,
    "id": "73a322df",
    "lang": "fr",
    "tags": []
   },
   "source": [
    "## Q2D\n",
    "Créez maintenant un nouveau jeu de données en utilisant la fonction `make_circles` avec l’argument `factor=0.3`. Testez les quatre classifieurs mentionnés à Q2B sur ce jeu de données, en utilisant une partition aléatoire (mais identique pour tous les classifieurs) de 50% en entraînement et 50% en validation. Pour chaque classifieur testé, donnez l’erreur empirique correspondant au taux d’erreur de classement sur le jeu de validation. Représentez également les résultats visuellement, en traçant les données (avec indicateurs de classe) et les régions de décision dans des figures 2D. Quel classifieur semble avoir le niveau de complexité le plus approprié pour ce jeu de données ?"
   ]
  },
  {
   "cell_type": "markdown",
   "id": "da2ed0e2",
   "metadata": {
    "editable": false,
    "id": "92acc79d",
    "lang": "en",
    "tags": []
   },
   "source": [
    "## Q2D\n",
    "Now create a new dataset using the `make_circles` function with the argument` factor = 0.3`. Test the four classifiers mentioned in Q2B on this dataset, using a random partition (but identical for all classifiers) of 50% in training and 50% in validation. For each classifier tested, give the empirical error corresponding to the classification error rate on the validation set. Also represent the results visually, plotting the data (with class indicators) and decision regions in 2D figures. Which classifier seems to have the most appropriate level of complexity for this dataset?"
   ]
  },
  {
   "cell_type": "markdown",
   "id": "1f753954",
   "metadata": {
    "editable": false,
    "id": "69892a25",
    "lang": "fr",
    "tags": []
   },
   "source": [
    "### Patron de code réponse pour Q2D"
   ]
  },
  {
   "cell_type": "markdown",
   "id": "fc0385d8",
   "metadata": {
    "editable": false,
    "id": "faaf392a",
    "lang": "en",
    "tags": []
   },
   "source": [
    "### Q2D answer code template"
   ]
  },
  {
   "cell_type": "code",
   "execution_count": null,
   "id": "f4be4085",
   "metadata": {
    "editable": false,
    "id": "833a9bf8",
    "tags": []
   },
   "outputs": [],
   "source": [
    "# Durée d'exécution maximale / maximum execution time\n",
    "TMAX_Q2D = 1.0\n",
    "\n",
    "# Dictionnaire pour enregistrer les erreurs selon les classifieurs\n",
    "# Dictionary to record error according to the classifiers\n",
    "erreurs = collections.OrderedDict()\n",
    "\n",
    "# Création du jeu de données / create dataset\n",
    "X, y = make_circles(factor=0.3)\n",
    "\n",
    "# *** TODO Q2D ***\n",
    "# Initialisez les différents classifieurs dans une liste nommée 'classifieurs'\n",
    "# Initialize the various classifiers in a list named 'classifieurs'\n",
    "\n",
    "# Créez une grille permettant d'afficher régions de décision pour chaque classifieur\n",
    "# Create a grid for displaying various decision regions for each classifier\n",
    "\n",
    "# Indices : numpy.meshgrid pourrait vous être utile, mais n'utilisez pas un pas trop petit!\n",
    "# Tips: numpy.meshgrid can be useful, but don't use a too small step size\n",
    "# ******\n",
    "\n",
    "# Créer une figure à plusieurs sous-graphes\n",
    "# Create a figure with several subplots\n",
    "fig, subfigs = pyplot.subplots(2, 2, sharex='all', sharey='all',\n",
    "                               tight_layout=True)\n",
    "t1 = time.time()\n",
    "for clf,subfig in zip(classifieurs, subfigs.reshape(-1)):\n",
    "    clf_name = clf.__class__.__name__\n",
    "    \n",
    "    # *** TODO Q2D ***\n",
    "    # Divisez le jeu de données de manière déterministe puis entraînez le classifieur\n",
    "    # Obtenez et affichez son erreur (1 - accuracy)\n",
    "    # Store this value in variable err\n",
    "\n",
    "    # Divide the dataset in a deterministic manner and train the classifier\n",
    "    # Obtain and display its error (1 - accuracy)\n",
    "    # Stockez la valeur de cette erreur dans la variable err\n",
    "\n",
    "    # Utilisez la grille que vous avez créée plus haut\n",
    "    # pour afficher les régions de décision, de même\n",
    "    # que les points colorés selon leur vraie classe\n",
    "    # Use the grid created below to display decision regions\n",
    "    # as well dots of the samples coloured according to their\n",
    "    # real class label\n",
    "    # ******\n",
    "\n",
    "    # Ajout de l'erreur pour affichage et assigner titre de la figure\n",
    "    # Add error for display and assign figure title\n",
    "    erreurs[clf_name] = err\n",
    "    subfig.set_title(clf_name)\n",
    "    \n",
    "### Ne pas modifier ###\n",
    "t2 = time.time()\n",
    "duration = t2 - t1\n",
    "if duration > TMAX_Q2D:\n",
    "    print(f\"\\x1b[31m[ATTENTION] Votre code pour la question Q2D \" +\n",
    "          f\"met trop de temps à s'exécuter! Le temps maximum \" + \n",
    "          f\"permis est de {TMAX_Q2D:.4f} secondes, mais votre \" +\n",
    "          f\"code a requis {duration:.4f} secondes! Assurez-vous \" +\n",
    "          f\"que vous ne faites pas d'appels bloquants (par \" +\n",
    "          f\"exemple à show()) dans cette boucle!\\x1b[0m\")\n",
    "df = pandas.DataFrame(erreurs, index=['Erreurs'])\n",
    "display.display(df)"
   ]
  },
  {
   "cell_type": "markdown",
   "id": "ffb9cd48",
   "metadata": {
    "editable": false,
    "id": "f61d1a09",
    "lang": "fr",
    "tags": []
   },
   "source": [
    "### Entrez votre solution à Q2D dans la cellule ci-dessous"
   ]
  },
  {
   "cell_type": "markdown",
   "id": "607cd414",
   "metadata": {
    "editable": false,
    "id": "2699d020",
    "lang": "en",
    "tags": []
   },
   "source": [
    "### Enter your answer to Q2D in the cell below"
   ]
  },
  {
   "cell_type": "code",
   "execution_count": null,
   "id": "06f42f24",
   "metadata": {
    "deletable": false,
    "id": "6d29cbb7",
    "tags": [
     "user-answer-Q2D",
     "editable"
    ]
   },
   "outputs": [],
   "source": [
    "TMAX_Q2D = 1.0\n",
    "\n",
    "\n",
    "erreurs = collections.OrderedDict()\n",
    "\n",
    "\n",
    "X, y = make_circles(factor=0.3)\n",
    "\n",
    "\n",
    "classifieurs = [QuadraticDiscriminantAnalysis(), LinearDiscriminantAnalysis(), GaussianNB(), NearestCentroid()]\n",
    "\n",
    "\n",
    "h = .02\n",
    "x_min, x_max = X[:, 0].min() - 1, X[:, 0].max() + 1\n",
    "y_min, y_max = X[:, 1].min() - 1, X[:, 1].max() + 1\n",
    "xx, yy = numpy.meshgrid(numpy.arange(x_min, x_max, h), numpy.arange(y_min, y_max, h))\n",
    "\n",
    "\n",
    "fig, subfigs = pyplot.subplots(2, 2, sharex='all', sharey='all', tight_layout=True)\n",
    "\n",
    "t1 = time.time()\n",
    "for clf,subfig in zip(classifieurs, subfigs.reshape(-1)):\n",
    "    clf_name = clf.__class__.__name__\n",
    "    \n",
    "\n",
    "    X_train, X_test, Y_train, Y_test = train_test_split(X,y, train_size=0.5, test_size=0.5)\n",
    "    clf.fit(X_train, Y_train)\n",
    "\n",
    "    err = 1 - clf.score(X_test, Y_test)\n",
    "    print(\"{} -> {}\".format(clf, err))\n",
    "        \n",
    "    r = clf.predict(numpy.c_[xx.ravel(), yy.ravel()])  \n",
    "    r = r.reshape(xx.shape)\n",
    "        \n",
    "    subfig.contourf(xx, yy, r, cmap=pyplot.cm.Paired, alpha=0.8)\n",
    "    subfig.scatter(X[:, 0], X[:, 1], c=colors[y], cmap=pyplot.cm.Paired)\n",
    "        \n",
    "    pyplot.xlim(xx.min(), xx.max())\n",
    "    pyplot.ylim(yy.min(), yy.max())\n",
    "    pyplot.show()\n",
    "        \n",
    "\n",
    "    erreurs[clf_name] = err\n",
    "    subfig.set_title(clf_name)\n",
    "    \n",
    "    \n",
    "t2 = time.time()\n",
    "duration = t2 - t1\n",
    "if duration > TMAX_Q2D:\n",
    "    print(f\"\\x1b[31m[ATTENTION] Votre code pour la question Q2D \" +\n",
    "          f\"met trop de temps à s'exécuter! Le temps maximum \" + \n",
    "          f\"permis est de {TMAX_Q2D:.4f} secondes, mais votre \" +\n",
    "          f\"code a requis {duration:.4f} secondes! Assurez-vous \" +\n",
    "          f\"que vous ne faites pas d'appels bloquants (par \" +\n",
    "          f\"exemple à show()) dans cette boucle!\\x1b[0m\")\n",
    "df = pandas.DataFrame(erreurs, index=['Erreurs'])\n",
    "display.display(df)"
   ]
  }
 ],
 "metadata": {
  "PAX": {
   "userLang": "fr"
  },
  "celltoolbar": "",
  "jupytext": {
   "notebook_metadata_filter": "celltoolbar",
   "text_representation": {
    "extension": ".md",
    "format_name": "markdown",
    "format_version": "1.3",
    "jupytext_version": "1.11.4"
   }
  },
  "kernelspec": {
   "display_name": "Python 3 (PAX)",
   "language": "python",
   "name": "python3"
  },
  "language_info": {
   "codemirror_mode": {
    "name": "ipython",
    "version": 3
   },
   "file_extension": ".py",
   "mimetype": "text/x-python",
   "name": "python",
   "nbconvert_exporter": "python",
   "pygments_lexer": "ipython3",
   "version": "3.8.10"
  },
  "nbTranslate": {
   "displayLangs": [
    "*"
   ],
   "hotkey": "alt-t",
   "langInMainMenu": true,
   "sourceLang": "en",
   "targetLang": "fr",
   "useGoogleTranslate": true
  }
 },
 "nbformat": 4,
 "nbformat_minor": 5
}
